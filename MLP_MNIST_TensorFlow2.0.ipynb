{
  "nbformat": 4,
  "nbformat_minor": 0,
  "metadata": {
    "colab": {
      "name": "IDL2020S_Assignment_1.ipynb",
      "provenance": []
    },
    "kernelspec": {
      "name": "python3",
      "display_name": "Python 3"
    }
  },
  "cells": [
    {
      "cell_type": "markdown",
      "metadata": {
        "id": "kLPsPZQ1twS0",
        "colab_type": "text"
      },
      "source": [
        "*Team Members*:   \n",
        "Alisha Mehta, Matr.no: **221481**,  \n",
        "Ashish Soni, Matr.no: **221453**,  \n",
        "Peer Ahamad Shaik, matr.no: **221407**.  \n",
        "\n",
        "Exercise Group 4."
      ]
    },
    {
      "cell_type": "markdown",
      "metadata": {
        "id": "bsOVzTXEF4ej",
        "colab_type": "text"
      },
      "source": [
        "**Multilayer Perceptron using TensorFlow 2.0**: Classification model"
      ]
    },
    {
      "cell_type": "markdown",
      "metadata": {
        "id": "YfgS66f-l0v-",
        "colab_type": "text"
      },
      "source": [
        "**MNIST dataset**"
      ]
    },
    {
      "cell_type": "markdown",
      "metadata": {
        "id": "vuSaxgEIGQek",
        "colab_type": "text"
      },
      "source": [
        "- Importing Packages [tensorflow, numpy, matplotlib]"
      ]
    },
    {
      "cell_type": "code",
      "metadata": {
        "id": "Uiw_PLYlFvnK",
        "colab_type": "code",
        "colab": {}
      },
      "source": [
        "import tensorflow as tf\n",
        "import numpy as np\n",
        "import matplotlib.pyplot as plt\n",
        "from __future__ import print_function"
      ],
      "execution_count": 0,
      "outputs": []
    },
    {
      "cell_type": "markdown",
      "metadata": {
        "id": "mlivuenjGsXG",
        "colab_type": "text"
      },
      "source": [
        "- Loading data from keras.datasets"
      ]
    },
    {
      "cell_type": "code",
      "metadata": {
        "id": "jVmqplyrGfrY",
        "colab_type": "code",
        "colab": {}
      },
      "source": [
        "mnist = tf.keras.datasets.mnist\n",
        "(train_images, train_labels), (test_images, test_labels) = mnist.load_data()"
      ],
      "execution_count": 0,
      "outputs": []
    },
    {
      "cell_type": "code",
      "metadata": {
        "id": "A2uremCHHL7o",
        "colab_type": "code",
        "outputId": "dae6307a-e4c2-4017-baa2-17baa9017ac4",
        "colab": {
          "base_uri": "https://localhost:8080/",
          "height": 53
        }
      },
      "source": [
        "print(\"No.of images for training:\", len(train_images))\n",
        "print(\"No.of images for testing:\", len(test_images))"
      ],
      "execution_count": 0,
      "outputs": [
        {
          "output_type": "stream",
          "text": [
            "No.of images for training: 60000\n",
            "No.of images for testing: 10000\n"
          ],
          "name": "stdout"
        }
      ]
    },
    {
      "cell_type": "code",
      "metadata": {
        "id": "pPmwelEnphm1",
        "colab_type": "code",
        "outputId": "8049e58c-122f-45f8-8a2f-7514b5dc66ce",
        "colab": {
          "base_uri": "https://localhost:8080/",
          "height": 283
        }
      },
      "source": [
        "plt.imshow(train_images[0], cmap =\"Accent\")"
      ],
      "execution_count": 0,
      "outputs": [
        {
          "output_type": "execute_result",
          "data": {
            "text/plain": [
              "<matplotlib.image.AxesImage at 0x7f6ba63cfba8>"
            ]
          },
          "metadata": {
            "tags": []
          },
          "execution_count": 25
        },
        {
          "output_type": "display_data",
          "data": {
            "image/png": "[encoded data removed]",
            "text/plain": [
              "<Figure size 432x288 with 1 Axes>"
            ]
          },
          "metadata": {
            "tags": [],
            "needs_background": "light"
          }
        }
      ]
    },
    {
      "cell_type": "markdown",
      "metadata": {
        "id": "CNsK9kP0Gk1K",
        "colab_type": "text"
      },
      "source": [
        "- Declaring parameters for the model"
      ]
    },
    {
      "cell_type": "code",
      "metadata": {
        "id": "d977iAXYH9tk",
        "colab_type": "code",
        "colab": {}
      },
      "source": [
        "#Image parameters\n",
        "num_classes = len(np.unique(train_labels))\n",
        "num_features = np.shape(train_images[0])[0] * np.shape(train_images[0])[1]\n",
        "\n",
        "#Hyper-parameters\n",
        "learning_rate = 0.01\n",
        "training_steps = 3000\n",
        "batch_size = 256\n",
        "hiddenLayer_1_size = 128\n",
        "hiddenLayer_2_size = 256"
      ],
      "execution_count": 0,
      "outputs": []
    },
    {
      "cell_type": "markdown",
      "metadata": {
        "id": "4_9XVSB5JWHB",
        "colab_type": "text"
      },
      "source": [
        "- Pre-processing the data"
      ]
    },
    {
      "cell_type": "code",
      "metadata": {
        "id": "r3m6okv9JVyq",
        "colab_type": "code",
        "colab": {}
      },
      "source": [
        "#converting data to float of 32 bit-size\n",
        "train_images = np.array(train_images, np.float32)\n",
        "test_images = np.array(test_images, np.float32)\n",
        "\n",
        "#ravel the data\n",
        "train_images = train_images.reshape([-1, num_features])\n",
        "test_images = test_images.reshape([-1,num_features])\n",
        "\n",
        "#Normalizing the data. (255 is the maximum value of a pixel here)\n",
        "train_images = train_images/255.0\n",
        "test_images = test_images/255.0"
      ],
      "execution_count": 0,
      "outputs": []
    },
    {
      "cell_type": "markdown",
      "metadata": {
        "id": "yn-zRa-FLt_r",
        "colab_type": "text"
      },
      "source": [
        "- Using Special attribute tf.Initalizers.randomNormal(), to randomly get the Values."
      ]
    },
    {
      "cell_type": "code",
      "metadata": {
        "id": "9PJtLzV0L-Kh",
        "colab_type": "code",
        "colab": {}
      },
      "source": [
        "random_normal = tf.initializers.RandomNormal()"
      ],
      "execution_count": 0,
      "outputs": []
    },
    {
      "cell_type": "markdown",
      "metadata": {
        "id": "5iIYGW04MLpx",
        "colab_type": "text"
      },
      "source": [
        "- Weights and bias structure declarartion:\n",
        "  - storing values in dictionary, for easy access."
      ]
    },
    {
      "cell_type": "code",
      "metadata": {
        "id": "aYjp1bftMJMC",
        "colab_type": "code",
        "colab": {}
      },
      "source": [
        "weights = {\n",
        "    'h1': tf.Variable(random_normal([num_features, hiddenLayer_1_size])),\n",
        "    'h2': tf.Variable(random_normal([hiddenLayer_1_size, hiddenLayer_2_size])),\n",
        "    'out': tf.Variable(random_normal([hiddenLayer_2_size, num_classes]))\n",
        "}\n",
        "biases = {\n",
        "    'b1': tf.Variable(tf.zeros([hiddenLayer_1_size])),\n",
        "    'b2': tf.Variable(tf.zeros([hiddenLayer_2_size])),\n",
        "    'out': tf.Variable(tf.zeros([num_classes]))\n",
        "}"
      ],
      "execution_count": 0,
      "outputs": []
    },
    {
      "cell_type": "markdown",
      "metadata": {
        "id": "zi3fMaPYj8NP",
        "colab_type": "text"
      },
      "source": [
        "- Using tensorflow deafult API for batching the data"
      ]
    },
    {
      "cell_type": "code",
      "metadata": {
        "id": "8Nl39VwneXwD",
        "colab_type": "code",
        "colab": {}
      },
      "source": [
        "train_data = tf.data.Dataset.from_tensor_slices((train_images, train_labels))\n",
        "train_data = train_data.repeat().shuffle(5000).batch(batch_size).prefetch(1)"
      ],
      "execution_count": 0,
      "outputs": []
    },
    {
      "cell_type": "markdown",
      "metadata": {
        "id": "JVhx1btiN9bp",
        "colab_type": "text"
      },
      "source": [
        "- **MLP MODEL**:"
      ]
    },
    {
      "cell_type": "code",
      "metadata": {
        "id": "Qxvte4GQN9IM",
        "colab_type": "code",
        "colab": {}
      },
      "source": [
        "def model(x):\n",
        "  layer_1 = tf.add(tf.matmul(x, weights['h1']), biases['b1'])\n",
        "  layer_1 = tf.nn.sigmoid(layer_1)\n",
        "\n",
        "  layer_2 = tf.add(tf.matmul(layer_1, weights['h2']), biases['b2'])\n",
        "  layer_2 = tf.nn.sigmoid(layer_2)\n",
        "\n",
        "  out_layer = tf.matmul(layer_2, weights['out']) + biases['out']\n",
        "  return tf.nn.softmax(out_layer)"
      ],
      "execution_count": 0,
      "outputs": []
    },
    {
      "cell_type": "markdown",
      "metadata": {
        "id": "TRO55EkUkQWl",
        "colab_type": "text"
      },
      "source": [
        "- Declaring a method called *cross_entropy* to calculate the loss function."
      ]
    },
    {
      "cell_type": "code",
      "metadata": {
        "id": "jqHjX_MOeih6",
        "colab_type": "code",
        "colab": {}
      },
      "source": [
        "def cross_entropy(y_pred, y_true):\n",
        "    # Encode label to a one hot vector.\n",
        "    y_true = tf.one_hot(y_true, depth=num_classes)\n",
        "    # Clip prediction values to avoid log(0) error.\n",
        "    y_pred = tf.clip_by_value(y_pred, 1e-9, 1.)\n",
        "    # Compute cross-entropy.\n",
        "    return tf.reduce_mean(-tf.reduce_sum(y_true * tf.math.log(y_pred)))"
      ],
      "execution_count": 0,
      "outputs": []
    },
    {
      "cell_type": "markdown",
      "metadata": {
        "id": "yjiSuI3Lknya",
        "colab_type": "text"
      },
      "source": [
        "- A small snippet for calculating the *accuracy*."
      ]
    },
    {
      "cell_type": "code",
      "metadata": {
        "id": "yrJwd-0gh0OO",
        "colab_type": "code",
        "colab": {}
      },
      "source": [
        "def accuracy(y_pred, y_true):\n",
        "    # Predicted class is the index of highest score in prediction vector (i.e. argmax).\n",
        "    correct_prediction = tf.equal(tf.argmax(y_pred, 1), tf.cast(y_true, tf.int64))\n",
        "    return tf.reduce_mean(tf.cast(correct_prediction, tf.float32), axis=-1)\n"
      ],
      "execution_count": 0,
      "outputs": []
    },
    {
      "cell_type": "code",
      "metadata": {
        "id": "GuBnnXYHh2LK",
        "colab_type": "code",
        "colab": {}
      },
      "source": [
        "# We are using stochastic gradient descent optimizer.\n",
        "optimizer = tf.optimizers.SGD(learning_rate)"
      ],
      "execution_count": 0,
      "outputs": []
    },
    {
      "cell_type": "markdown",
      "metadata": {
        "id": "42tZgx-wlDMu",
        "colab_type": "text"
      },
      "source": [
        "- Calculating gradients and updating the **weights** of the layers."
      ]
    },
    {
      "cell_type": "code",
      "metadata": {
        "id": "jM5RKkcdQNtJ",
        "colab_type": "code",
        "colab": {}
      },
      "source": [
        "# Optimization process. \n",
        "def run_optimization(x, y):\n",
        "    with tf.GradientTape() as g:\n",
        "        pred = model(x)\n",
        "        loss = cross_entropy(pred, y)        \n",
        "    # Variables to update, i.e. trainable variables.\n",
        "    trainable_variables = list(weights.values()) + list(biases.values())\n",
        "    gradients = g.gradient(loss, trainable_variables)    \n",
        "    optimizer.apply_gradients(zip(gradients, trainable_variables))\n",
        "    del g"
      ],
      "execution_count": 0,
      "outputs": []
    },
    {
      "cell_type": "markdown",
      "metadata": {
        "id": "rfHjGdWTlkTI",
        "colab_type": "text"
      },
      "source": [
        "- **Training Phase**"
      ]
    },
    {
      "cell_type": "code",
      "metadata": {
        "id": "_rFmierACfvB",
        "colab_type": "code",
        "outputId": "ff2190c9-71ac-4c10-a4e0-fc289e4cee6e",
        "colab": {
          "base_uri": "https://localhost:8080/",
          "height": 557
        }
      },
      "source": [
        "for step, (batch_x, batch_y) in enumerate(train_data.take(training_steps), 1):\n",
        "    # Run the optimization to update W and b values.\n",
        "    run_optimization(batch_x, batch_y)\n",
        "    if step % 100 == 0:\n",
        "        pred = model(batch_x)\n",
        "        loss = cross_entropy(pred, batch_y)\n",
        "        acc = accuracy(pred, batch_y)\n",
        "        print(\"Loss: {} Accuracy: {}\".format(loss, acc))\n",
        "        #print(\"step: %i, loss: %f, accuracy: %f\" % (step, loss, acc))"
      ],
      "execution_count": 0,
      "outputs": [
        {
          "output_type": "stream",
          "text": [
            "Loss: 424.19854736328125 Accuracy: 0.375\n",
            "Loss: 218.25265502929688 Accuracy: 0.68359375\n",
            "Loss: 116.95947265625 Accuracy: 0.8828125\n",
            "Loss: 107.33373260498047 Accuracy: 0.87109375\n",
            "Loss: 55.60253143310547 Accuracy: 0.93359375\n",
            "Loss: 47.41075134277344 Accuracy: 0.94921875\n",
            "Loss: 39.18633270263672 Accuracy: 0.95703125\n",
            "Loss: 47.71690368652344 Accuracy: 0.953125\n",
            "Loss: 32.49505615234375 Accuracy: 0.9765625\n",
            "Loss: 32.88903045654297 Accuracy: 0.96484375\n",
            "Loss: 20.520771026611328 Accuracy: 0.9765625\n",
            "Loss: 17.47661590576172 Accuracy: 0.984375\n",
            "Loss: 29.488393783569336 Accuracy: 0.96875\n",
            "Loss: 15.423981666564941 Accuracy: 0.98828125\n",
            "Loss: 15.409005165100098 Accuracy: 0.98046875\n",
            "Loss: 13.061232566833496 Accuracy: 0.984375\n",
            "Loss: 8.111684799194336 Accuracy: 0.9921875\n",
            "Loss: 21.216163635253906 Accuracy: 0.9765625\n",
            "Loss: 11.768924713134766 Accuracy: 0.98828125\n",
            "Loss: 10.912610054016113 Accuracy: 0.9921875\n",
            "Loss: 7.845883846282959 Accuracy: 0.99609375\n",
            "Loss: 6.299642562866211 Accuracy: 0.99609375\n",
            "Loss: 8.400581359863281 Accuracy: 0.9921875\n",
            "Loss: 4.533959865570068 Accuracy: 1.0\n",
            "Loss: 8.944976806640625 Accuracy: 0.98828125\n",
            "Loss: 9.285865783691406 Accuracy: 0.9921875\n",
            "Loss: 7.198172569274902 Accuracy: 0.9921875\n",
            "Loss: 10.982518196105957 Accuracy: 0.98828125\n",
            "Loss: 4.904059410095215 Accuracy: 0.99609375\n",
            "Loss: 4.392744064331055 Accuracy: 0.99609375\n"
          ],
          "name": "stdout"
        }
      ]
    },
    {
      "cell_type": "markdown",
      "metadata": {
        "id": "FG6ZKqYqm73i",
        "colab_type": "text"
      },
      "source": [
        "**Accuracy on test dataset**"
      ]
    },
    {
      "cell_type": "code",
      "metadata": {
        "id": "MIYprdUqgA31",
        "colab_type": "code",
        "outputId": "ae656779-7dde-49aa-a274-ccb64d3674b7",
        "colab": {
          "base_uri": "https://localhost:8080/",
          "height": 35
        }
      },
      "source": [
        "test_preds = model(test_images)\n",
        "acc = accuracy(test_preds, test_labels)\n",
        "print(\"Test Accuracy: %f\" % acc)"
      ],
      "execution_count": 0,
      "outputs": [
        {
          "output_type": "stream",
          "text": [
            "Test Accuracy: 0.973300\n"
          ],
          "name": "stdout"
        }
      ]
    }
  ]
}